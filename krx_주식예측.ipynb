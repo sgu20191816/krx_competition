{
  "cells": [
    {
      "cell_type": "markdown",
      "metadata": {
        "id": "view-in-github",
        "colab_type": "text"
      },
      "source": [
        "<a href=\"https://colab.research.google.com/github/sgu20191816/krx_competition/blob/main/krx_%EC%A3%BC%EC%8B%9D%EC%98%88%EC%B8%A1.ipynb\" target=\"_parent\"><img src=\"https://colab.research.google.com/assets/colab-badge.svg\" alt=\"Open In Colab\"/></a>"
      ]
    },
    {
      "cell_type": "code",
      "execution_count": null,
      "metadata": {
        "colab": {
          "base_uri": "https://localhost:8080/"
        },
        "id": "JCMG_DvrNLsY",
        "outputId": "fa9ef77e-5497-4929-e2f5-2a7a85631acf"
      },
      "outputs": [
        {
          "output_type": "stream",
          "name": "stdout",
          "text": [
            "Drive already mounted at /content/drive; to attempt to forcibly remount, call drive.mount(\"/content/drive\", force_remount=True).\n"
          ]
        }
      ],
      "source": [
        "from google.colab import drive\n",
        "drive.mount('/content/drive')"
      ]
    },
    {
      "cell_type": "markdown",
      "source": [
        "# Import"
      ],
      "metadata": {
        "id": "uR6sVfsQu6G1"
      }
    },
    {
      "cell_type": "code",
      "execution_count": null,
      "metadata": {
        "id": "E9TfpW2kmQ0V"
      },
      "outputs": [],
      "source": [
        "!pip install pykrx --quiet\n",
        "from pykrx import stock\n",
        "from pykrx import bond\n",
        "\n",
        "!pip install prophet --quiet\n",
        "from prophet import Prophet\n",
        "\n",
        "!pip install workalendar --quiet\n",
        "from workalendar.asia import SouthKorea\n",
        "\n",
        "import time\n",
        "import math\n",
        "from tqdm import tqdm\n",
        "import pandas as pd\n",
        "import numpy as np"
      ]
    },
    {
      "cell_type": "code",
      "execution_count": null,
      "metadata": {
        "id": "pzGGf0CVAQy9"
      },
      "outputs": [],
      "source": [
        "# 예측에 필요한 주식 종목들 확인을 위해 데이콘 제공 csv파일을 불러옴\n",
        "init1 = pd.read_csv('/content/drive/MyDrive/DACON/KRX 주식 투자 알고리즘 경진대회/open/train.csv')\n",
        "init2 = pd.read_csv('/content/drive/MyDrive/DACON/KRX 주식 투자 알고리즘 경진대회/open/train_additional.csv')"
      ]
    },
    {
      "cell_type": "markdown",
      "source": [
        "# Data Preprocessing"
      ],
      "metadata": {
        "id": "Br4tNaHQ0OSg"
      }
    },
    {
      "cell_type": "code",
      "execution_count": null,
      "metadata": {
        "colab": {
          "base_uri": "https://localhost:8080/"
        },
        "outputId": "8a002b7f-fc71-4c40-c763-c1f4f15a5f70",
        "id": "u8bdy1_vAQy9"
      },
      "outputs": [
        {
          "output_type": "execute_result",
          "data": {
            "text/plain": [
              "1999"
            ]
          },
          "metadata": {},
          "execution_count": 4
        }
      ],
      "source": [
        "# 'A'를 제외하고 고유한 종목코드를 추출\n",
        "ticker_list = init1['종목코드'].str[1:].unique()\n",
        "ticker_list = ticker_list.tolist()\n",
        "\n",
        "#7월 중에 상장 폐지된 종목은 제거\n",
        "ticker_list.remove('096640')\n",
        "\n",
        "len(ticker_list)"
      ]
    },
    {
      "cell_type": "markdown",
      "source": [
        "- 기업의 행위(액면 변경, 배당 등)에 의한 주가의 변동을 고려한 수정 주가를 활용하고자 함\n",
        "- 공공데이터로 개방된 KRX, NAVER에서 수정 주가 및 시가총액을 불러올 수 있는 크롤링 라이브러리 pykrx를 활용"
      ],
      "metadata": {
        "id": "YudNEtj5RGcn"
      }
    },
    {
      "cell_type": "code",
      "execution_count": null,
      "metadata": {
        "id": "q5LSTmUWAQy-"
      },
      "outputs": [],
      "source": [
        "# pykrx 라이브러리를 사용해 \"20220601\"~\"20230728\" 데이터를 train에 저장\n",
        "train = dict()\n",
        "\n",
        "for ticker in tqdm(ticker_list) :\n",
        "   train[ticker] = stock.get_market_ohlcv(\"20220601\", \"20230728\", ticker)\n",
        "   train[ticker].to_csv('/content/drive/MyDrive/DACON/KRX 주식 투자 알고리즘 경진대회/{}.csv'.format(ticker), index=False)"
      ]
    },
    {
      "cell_type": "code",
      "source": [
        "init = pd.concat([init1, init2])"
      ],
      "metadata": {
        "id": "4GTqNS9p9qls"
      },
      "execution_count": null,
      "outputs": []
    },
    {
      "cell_type": "code",
      "source": [
        "dates = init['일자'].unique()\n",
        "\n",
        "# 필터링할 날짜 범위\n",
        "start_date = 20220601\n",
        "end_date = 20230728\n",
        "\n",
        "# 범위 내의 날짜만 선택\n",
        "filtered_dates = [date for date in dates if start_date <= date <= end_date]"
      ],
      "metadata": {
        "id": "o_NZDUlSjdk3"
      },
      "execution_count": null,
      "outputs": []
    },
    {
      "cell_type": "code",
      "source": [
        "# 사용 모델에서 휴일 고려를 위해, 한국 기준 휴일 추출\n",
        "date_list = pd.date_range(start='20220601', end='20230821', freq='D')\n",
        "kr_holidays = stock.get_previous_business_days(fromdate = '20220601', todate = '20230821')\n",
        "holiday_df = pd.DataFrame(columns=['ds','holiday'])\n",
        "holiday_df['ds'] = sorted(date_list)\n",
        "holiday_df['holiday'] = holiday_df.ds.apply(lambda x: 'non-holiday' if x in kr_holidays else 'holiday')"
      ],
      "metadata": {
        "id": "FPtgMBT3dq-r"
      },
      "execution_count": null,
      "outputs": []
    },
    {
      "cell_type": "code",
      "execution_count": null,
      "metadata": {
        "colab": {
          "base_uri": "https://localhost:8080/"
        },
        "id": "55yhs3nRg9zi",
        "outputId": "67ad5fb4-2e46-4629-d72a-6edd29d977e2"
      },
      "outputs": [
        {
          "output_type": "stream",
          "name": "stderr",
          "text": [
            "100%|██████████| 1999/1999 [05:26<00:00,  6.11it/s]\n"
          ]
        }
      ],
      "source": [
        "def create_empty_df(columns, index):\n",
        "    return pd.DataFrame(0, index=index, columns=columns)\n",
        "\n",
        "merged_data = dict()\n",
        "for ticker in tqdm(ticker_list):\n",
        "  if ticker == '096640': continue # 상장폐지된 종목 pass\n",
        "  train[ticker] = pd.read_csv('/content/drive/MyDrive/DACON/KRX 주식 투자 알고리즘 경진대회/{}.csv'.format(ticker))\n",
        "  train[ticker]['일자'] = filtered_dates\n",
        "\n",
        "  train[ticker]['일자'] = pd.to_datetime(train[ticker]['일자'], format='%Y%m%d').dt.date\n",
        "  train[ticker] = train[ticker].set_index('일자')\n",
        "  merged_data[ticker] = train[ticker].fillna(0)"
      ]
    },
    {
      "cell_type": "code",
      "execution_count": null,
      "metadata": {
        "id": "LkUuqSHwYtoK",
        "colab": {
          "base_uri": "https://localhost:8080/"
        },
        "outputId": "8cbee8be-f146-4707-e66a-8449650c63b2"
      },
      "outputs": [
        {
          "output_type": "stream",
          "name": "stderr",
          "text": [
            "100%|██████████| 1999/1999 [03:41<00:00,  9.03it/s]\n"
          ]
        }
      ],
      "source": [
        "# 일간 수익률 = (현시점 거래일의 종가 - 전날 거래일의 종가) / 전날거래일의 종가\n",
        "# 연율화 = 일간 * 거래 기간\n",
        "# n일차 일간 수익률 = 연율화된 일간 수익률\n",
        "\n",
        "# 변동성을 계산하기 위해 총 일수 확인\n",
        "일수 = len(merged_data[ticker_list[0]])\n",
        "\n",
        "for ticker in tqdm(ticker_list) :\n",
        "  if ticker == '096640': continue\n",
        "  merged_data[ticker]['연율화'] = 0\n",
        "  merged_data[ticker]['일자'] = merged_data[ticker].index\n",
        "  merged_data[ticker] = merged_data[ticker].reset_index(drop=True)\n",
        "  merged_data[ticker]['연율화'] = 0\n",
        "\n",
        "  # n+1번째 날 일간 수익률\n",
        "  for n in range(1, len(merged_data[ticker])) :\n",
        "    전날종가 = merged_data[ticker].iloc[n-1]['종가']\n",
        "    현재종가 = merged_data[ticker].iloc[n]['종가']\n",
        "\n",
        "    n일간수익률 = (현재종가 - 전날종가) / 전날종가\n",
        "    n연율화 = n일간수익률 * len(merged_data[ticker])\n",
        "    merged_data[ticker].loc[n, '연율화'] = n연율화"
      ]
    },
    {
      "cell_type": "code",
      "source": [
        "merged_data[ticker]"
      ],
      "metadata": {
        "colab": {
          "base_uri": "https://localhost:8080/",
          "height": 424
        },
        "id": "fvZHxr8ZR2FF",
        "outputId": "ab682950-fb79-42c4-9190-7981b5191e92"
      },
      "execution_count": null,
      "outputs": [
        {
          "output_type": "execute_result",
          "data": {
            "text/plain": [
              "       시가    고가    저가    종가     거래량       거래대금   등락률        연율화          일자\n",
              "0    8050  8120  7960  8020    4450   35652240 -0.37   0.000000  2022-06-02\n",
              "1    8030  8120  8010  8070    6293   50668960  0.62   1.795511  2022-06-03\n",
              "2    7990  8070  7990  8000    2641   21203260 -0.87  -2.498141  2022-06-07\n",
              "3    7950  8090  7950  7990    4818   38598630 -0.13  -0.360000  2022-06-08\n",
              "4    8000  8000  7800  7900    9167   72208510 -1.13  -3.244055  2022-06-09\n",
              "..    ...   ...   ...   ...     ...        ...   ...        ...         ...\n",
              "283  7040  7080  6720  6830   73790  505764830 -3.53 -10.169492  2023-07-24\n",
              "284  6760  6870  6500  6530   51301  340374190 -4.39 -12.650073  2023-07-25\n",
              "285  6420  6590  6200  6300  128660  816159440 -3.52 -10.143951  2023-07-26\n",
              "286  6140  6620  6120  6460   42368  272530940  2.54   7.314286  2023-07-27\n",
              "287  6400  6640  6250  6600   15808  103550680  2.17   6.241486  2023-07-28\n",
              "\n",
              "[288 rows x 9 columns]"
            ],
            "text/html": [
              "\n",
              "\n",
              "  <div id=\"df-627b9c89-3845-4ead-a345-be1d9b98d6c4\">\n",
              "    <div class=\"colab-df-container\">\n",
              "      <div>\n",
              "<style scoped>\n",
              "    .dataframe tbody tr th:only-of-type {\n",
              "        vertical-align: middle;\n",
              "    }\n",
              "\n",
              "    .dataframe tbody tr th {\n",
              "        vertical-align: top;\n",
              "    }\n",
              "\n",
              "    .dataframe thead th {\n",
              "        text-align: right;\n",
              "    }\n",
              "</style>\n",
              "<table border=\"1\" class=\"dataframe\">\n",
              "  <thead>\n",
              "    <tr style=\"text-align: right;\">\n",
              "      <th></th>\n",
              "      <th>시가</th>\n",
              "      <th>고가</th>\n",
              "      <th>저가</th>\n",
              "      <th>종가</th>\n",
              "      <th>거래량</th>\n",
              "      <th>거래대금</th>\n",
              "      <th>등락률</th>\n",
              "      <th>연율화</th>\n",
              "      <th>일자</th>\n",
              "    </tr>\n",
              "  </thead>\n",
              "  <tbody>\n",
              "    <tr>\n",
              "      <th>0</th>\n",
              "      <td>8050</td>\n",
              "      <td>8120</td>\n",
              "      <td>7960</td>\n",
              "      <td>8020</td>\n",
              "      <td>4450</td>\n",
              "      <td>35652240</td>\n",
              "      <td>-0.37</td>\n",
              "      <td>0.000000</td>\n",
              "      <td>2022-06-02</td>\n",
              "    </tr>\n",
              "    <tr>\n",
              "      <th>1</th>\n",
              "      <td>8030</td>\n",
              "      <td>8120</td>\n",
              "      <td>8010</td>\n",
              "      <td>8070</td>\n",
              "      <td>6293</td>\n",
              "      <td>50668960</td>\n",
              "      <td>0.62</td>\n",
              "      <td>1.795511</td>\n",
              "      <td>2022-06-03</td>\n",
              "    </tr>\n",
              "    <tr>\n",
              "      <th>2</th>\n",
              "      <td>7990</td>\n",
              "      <td>8070</td>\n",
              "      <td>7990</td>\n",
              "      <td>8000</td>\n",
              "      <td>2641</td>\n",
              "      <td>21203260</td>\n",
              "      <td>-0.87</td>\n",
              "      <td>-2.498141</td>\n",
              "      <td>2022-06-07</td>\n",
              "    </tr>\n",
              "    <tr>\n",
              "      <th>3</th>\n",
              "      <td>7950</td>\n",
              "      <td>8090</td>\n",
              "      <td>7950</td>\n",
              "      <td>7990</td>\n",
              "      <td>4818</td>\n",
              "      <td>38598630</td>\n",
              "      <td>-0.13</td>\n",
              "      <td>-0.360000</td>\n",
              "      <td>2022-06-08</td>\n",
              "    </tr>\n",
              "    <tr>\n",
              "      <th>4</th>\n",
              "      <td>8000</td>\n",
              "      <td>8000</td>\n",
              "      <td>7800</td>\n",
              "      <td>7900</td>\n",
              "      <td>9167</td>\n",
              "      <td>72208510</td>\n",
              "      <td>-1.13</td>\n",
              "      <td>-3.244055</td>\n",
              "      <td>2022-06-09</td>\n",
              "    </tr>\n",
              "    <tr>\n",
              "      <th>...</th>\n",
              "      <td>...</td>\n",
              "      <td>...</td>\n",
              "      <td>...</td>\n",
              "      <td>...</td>\n",
              "      <td>...</td>\n",
              "      <td>...</td>\n",
              "      <td>...</td>\n",
              "      <td>...</td>\n",
              "      <td>...</td>\n",
              "    </tr>\n",
              "    <tr>\n",
              "      <th>283</th>\n",
              "      <td>7040</td>\n",
              "      <td>7080</td>\n",
              "      <td>6720</td>\n",
              "      <td>6830</td>\n",
              "      <td>73790</td>\n",
              "      <td>505764830</td>\n",
              "      <td>-3.53</td>\n",
              "      <td>-10.169492</td>\n",
              "      <td>2023-07-24</td>\n",
              "    </tr>\n",
              "    <tr>\n",
              "      <th>284</th>\n",
              "      <td>6760</td>\n",
              "      <td>6870</td>\n",
              "      <td>6500</td>\n",
              "      <td>6530</td>\n",
              "      <td>51301</td>\n",
              "      <td>340374190</td>\n",
              "      <td>-4.39</td>\n",
              "      <td>-12.650073</td>\n",
              "      <td>2023-07-25</td>\n",
              "    </tr>\n",
              "    <tr>\n",
              "      <th>285</th>\n",
              "      <td>6420</td>\n",
              "      <td>6590</td>\n",
              "      <td>6200</td>\n",
              "      <td>6300</td>\n",
              "      <td>128660</td>\n",
              "      <td>816159440</td>\n",
              "      <td>-3.52</td>\n",
              "      <td>-10.143951</td>\n",
              "      <td>2023-07-26</td>\n",
              "    </tr>\n",
              "    <tr>\n",
              "      <th>286</th>\n",
              "      <td>6140</td>\n",
              "      <td>6620</td>\n",
              "      <td>6120</td>\n",
              "      <td>6460</td>\n",
              "      <td>42368</td>\n",
              "      <td>272530940</td>\n",
              "      <td>2.54</td>\n",
              "      <td>7.314286</td>\n",
              "      <td>2023-07-27</td>\n",
              "    </tr>\n",
              "    <tr>\n",
              "      <th>287</th>\n",
              "      <td>6400</td>\n",
              "      <td>6640</td>\n",
              "      <td>6250</td>\n",
              "      <td>6600</td>\n",
              "      <td>15808</td>\n",
              "      <td>103550680</td>\n",
              "      <td>2.17</td>\n",
              "      <td>6.241486</td>\n",
              "      <td>2023-07-28</td>\n",
              "    </tr>\n",
              "  </tbody>\n",
              "</table>\n",
              "<p>288 rows × 9 columns</p>\n",
              "</div>\n",
              "      <button class=\"colab-df-convert\" onclick=\"convertToInteractive('df-627b9c89-3845-4ead-a345-be1d9b98d6c4')\"\n",
              "              title=\"Convert this dataframe to an interactive table.\"\n",
              "              style=\"display:none;\">\n",
              "\n",
              "  <svg xmlns=\"http://www.w3.org/2000/svg\" height=\"24px\"viewBox=\"0 0 24 24\"\n",
              "       width=\"24px\">\n",
              "    <path d=\"M0 0h24v24H0V0z\" fill=\"none\"/>\n",
              "    <path d=\"M18.56 5.44l.94 2.06.94-2.06 2.06-.94-2.06-.94-.94-2.06-.94 2.06-2.06.94zm-11 1L8.5 8.5l.94-2.06 2.06-.94-2.06-.94L8.5 2.5l-.94 2.06-2.06.94zm10 10l.94 2.06.94-2.06 2.06-.94-2.06-.94-.94-2.06-.94 2.06-2.06.94z\"/><path d=\"M17.41 7.96l-1.37-1.37c-.4-.4-.92-.59-1.43-.59-.52 0-1.04.2-1.43.59L10.3 9.45l-7.72 7.72c-.78.78-.78 2.05 0 2.83L4 21.41c.39.39.9.59 1.41.59.51 0 1.02-.2 1.41-.59l7.78-7.78 2.81-2.81c.8-.78.8-2.07 0-2.86zM5.41 20L4 18.59l7.72-7.72 1.47 1.35L5.41 20z\"/>\n",
              "  </svg>\n",
              "      </button>\n",
              "\n",
              "\n",
              "\n",
              "    <div id=\"df-0cc12e98-6da9-4693-965c-68a2b939d687\">\n",
              "      <button class=\"colab-df-quickchart\" onclick=\"quickchart('df-0cc12e98-6da9-4693-965c-68a2b939d687')\"\n",
              "              title=\"Suggest charts.\"\n",
              "              style=\"display:none;\">\n",
              "\n",
              "<svg xmlns=\"http://www.w3.org/2000/svg\" height=\"24px\"viewBox=\"0 0 24 24\"\n",
              "     width=\"24px\">\n",
              "    <g>\n",
              "        <path d=\"M19 3H5c-1.1 0-2 .9-2 2v14c0 1.1.9 2 2 2h14c1.1 0 2-.9 2-2V5c0-1.1-.9-2-2-2zM9 17H7v-7h2v7zm4 0h-2V7h2v10zm4 0h-2v-4h2v4z\"/>\n",
              "    </g>\n",
              "</svg>\n",
              "      </button>\n",
              "    </div>\n",
              "\n",
              "<style>\n",
              "  .colab-df-quickchart {\n",
              "    background-color: #E8F0FE;\n",
              "    border: none;\n",
              "    border-radius: 50%;\n",
              "    cursor: pointer;\n",
              "    display: none;\n",
              "    fill: #1967D2;\n",
              "    height: 32px;\n",
              "    padding: 0 0 0 0;\n",
              "    width: 32px;\n",
              "  }\n",
              "\n",
              "  .colab-df-quickchart:hover {\n",
              "    background-color: #E2EBFA;\n",
              "    box-shadow: 0px 1px 2px rgba(60, 64, 67, 0.3), 0px 1px 3px 1px rgba(60, 64, 67, 0.15);\n",
              "    fill: #174EA6;\n",
              "  }\n",
              "\n",
              "  [theme=dark] .colab-df-quickchart {\n",
              "    background-color: #3B4455;\n",
              "    fill: #D2E3FC;\n",
              "  }\n",
              "\n",
              "  [theme=dark] .colab-df-quickchart:hover {\n",
              "    background-color: #434B5C;\n",
              "    box-shadow: 0px 1px 3px 1px rgba(0, 0, 0, 0.15);\n",
              "    filter: drop-shadow(0px 1px 2px rgba(0, 0, 0, 0.3));\n",
              "    fill: #FFFFFF;\n",
              "  }\n",
              "</style>\n",
              "\n",
              "    <script>\n",
              "      async function quickchart(key) {\n",
              "        const containerElement = document.querySelector('#' + key);\n",
              "        const charts = await google.colab.kernel.invokeFunction(\n",
              "            'suggestCharts', [key], {});\n",
              "      }\n",
              "    </script>\n",
              "\n",
              "      <script>\n",
              "\n",
              "function displayQuickchartButton(domScope) {\n",
              "  let quickchartButtonEl =\n",
              "    domScope.querySelector('#df-0cc12e98-6da9-4693-965c-68a2b939d687 button.colab-df-quickchart');\n",
              "  quickchartButtonEl.style.display =\n",
              "    google.colab.kernel.accessAllowed ? 'block' : 'none';\n",
              "}\n",
              "\n",
              "        displayQuickchartButton(document);\n",
              "      </script>\n",
              "      <style>\n",
              "    .colab-df-container {\n",
              "      display:flex;\n",
              "      flex-wrap:wrap;\n",
              "      gap: 12px;\n",
              "    }\n",
              "\n",
              "    .colab-df-convert {\n",
              "      background-color: #E8F0FE;\n",
              "      border: none;\n",
              "      border-radius: 50%;\n",
              "      cursor: pointer;\n",
              "      display: none;\n",
              "      fill: #1967D2;\n",
              "      height: 32px;\n",
              "      padding: 0 0 0 0;\n",
              "      width: 32px;\n",
              "    }\n",
              "\n",
              "    .colab-df-convert:hover {\n",
              "      background-color: #E2EBFA;\n",
              "      box-shadow: 0px 1px 2px rgba(60, 64, 67, 0.3), 0px 1px 3px 1px rgba(60, 64, 67, 0.15);\n",
              "      fill: #174EA6;\n",
              "    }\n",
              "\n",
              "    [theme=dark] .colab-df-convert {\n",
              "      background-color: #3B4455;\n",
              "      fill: #D2E3FC;\n",
              "    }\n",
              "\n",
              "    [theme=dark] .colab-df-convert:hover {\n",
              "      background-color: #434B5C;\n",
              "      box-shadow: 0px 1px 3px 1px rgba(0, 0, 0, 0.15);\n",
              "      filter: drop-shadow(0px 1px 2px rgba(0, 0, 0, 0.3));\n",
              "      fill: #FFFFFF;\n",
              "    }\n",
              "  </style>\n",
              "\n",
              "      <script>\n",
              "        const buttonEl =\n",
              "          document.querySelector('#df-627b9c89-3845-4ead-a345-be1d9b98d6c4 button.colab-df-convert');\n",
              "        buttonEl.style.display =\n",
              "          google.colab.kernel.accessAllowed ? 'block' : 'none';\n",
              "\n",
              "        async function convertToInteractive(key) {\n",
              "          const element = document.querySelector('#df-627b9c89-3845-4ead-a345-be1d9b98d6c4');\n",
              "          const dataTable =\n",
              "            await google.colab.kernel.invokeFunction('convertToInteractive',\n",
              "                                                     [key], {});\n",
              "          if (!dataTable) return;\n",
              "\n",
              "          const docLinkHtml = 'Like what you see? Visit the ' +\n",
              "            '<a target=\"_blank\" href=https://colab.research.google.com/notebooks/data_table.ipynb>data table notebook</a>'\n",
              "            + ' to learn more about interactive tables.';\n",
              "          element.innerHTML = '';\n",
              "          dataTable['output_type'] = 'display_data';\n",
              "          await google.colab.output.renderOutput(dataTable, element);\n",
              "          const docLink = document.createElement('div');\n",
              "          docLink.innerHTML = docLinkHtml;\n",
              "          element.appendChild(docLink);\n",
              "        }\n",
              "      </script>\n",
              "    </div>\n",
              "  </div>\n"
            ]
          },
          "metadata": {},
          "execution_count": 12
        }
      ]
    },
    {
      "cell_type": "markdown",
      "source": [
        "- 포트폴리오의 안정성을 위해 시가총액과 주가의 변동성의 표준편차를 함께 고려하여 정렬"
      ],
      "metadata": {
        "id": "KLHKZQGQSRSI"
      }
    },
    {
      "cell_type": "code",
      "source": [
        "# 단위가 다른 시가총액과 변동성 value - scaling\n",
        "def minmax_scale_dict_values(input_dict):\n",
        "    values = list(input_dict.values())\n",
        "    min_value = min(values)\n",
        "    max_value = max(values)\n",
        "\n",
        "    scaled_dict = {}\n",
        "    for key, value in input_dict.items():\n",
        "        scaled_value = (value - min_value) / (max_value - min_value)\n",
        "        scaled_dict[key] = scaled_value\n",
        "\n",
        "    return scaled_dict"
      ],
      "metadata": {
        "id": "Z73kf4CWd0rl"
      },
      "execution_count": null,
      "outputs": []
    },
    {
      "cell_type": "code",
      "source": [
        "# 시가총액은 클수록, 변동성은 작을수록 선호 - 비례 관계 맞춰줌\n",
        "def subtract_one_from_dict_values(input_dict):\n",
        "    subtracted_dict = {}\n",
        "    for key, value in input_dict.items():\n",
        "        if ( value == 0 ) : continue\n",
        "        subtracted_dict[key] = 1- value\n",
        "\n",
        "    return subtracted_dict"
      ],
      "metadata": {
        "id": "0vlSVT7Bf5hV"
      },
      "execution_count": null,
      "outputs": []
    },
    {
      "cell_type": "code",
      "source": [
        "# 각 종목당 편차 계산\n",
        "def exponential_smoothing(alpha, data):\n",
        "    forecast = [data[0]] # 초기 예측값\n",
        "\n",
        "    for i in range(1, len(data)):\n",
        "        smoothed_value = alpha * data[i] + (1 - alpha) * forecast[i - 1]\n",
        "        forecast.append(smoothed_value)\n",
        "\n",
        "    return forecast\n",
        "\n",
        "alpha = 0.5\n",
        "\n",
        "표준편차 = dict()\n",
        "\n",
        "for ticker in ticker_list :\n",
        "  sum = 0\n",
        "  merged_data[ticker]['ewma'] = exponential_smoothing(alpha, merged_data[ticker]['연율화'])\n",
        "  연율화평균 = merged_data[ticker]['ewma'].mean()\n",
        "\n",
        "  for n in range(1,len(merged_data[ticker])) :\n",
        "    sum += (merged_data[ticker]['ewma'][n] - 연율화평균)**2\n",
        "\n",
        "  변동성 = (sum/(len(merged_data[ticker])-2))**(0.5)\n",
        "  표준편차[ticker] = 변동성\n",
        "\n",
        "scaled_std = minmax_scale_dict_values(표준편차)\n",
        "scaled_std = subtract_one_from_dict_values(scaled_std)"
      ],
      "metadata": {
        "id": "ZGc4D3qYlrWr"
      },
      "execution_count": null,
      "outputs": []
    },
    {
      "cell_type": "code",
      "source": [
        "# 가장 최근의 시총 불러와서 저장\n",
        "market_cap = dict()\n",
        "for ticker in tqdm(ticker_list) :\n",
        "   temp= stock.get_market_cap(\"20230728\", \"20230728\", ticker)\n",
        "   market_cap[ticker] = temp['시가총액']\n",
        "\n",
        "market_cap = pd.DataFrame.from_dict(market_cap, orient='index').reset_index()\n",
        "market_cap.columns = ['종목코드', '시총']\n",
        "market_cap = market_cap.sort_values(by='시총', ascending=False)\n",
        "\n",
        "market_cap.to_csv('/content/drive/MyDrive/DACON/KRX 주식 투자 알고리즘 경진대회/시가총액.csv',index=False)\n",
        "\n",
        "# 저장한 시총 읽어들이기\n",
        "market_cap = pd.read_csv('/content/drive/MyDrive/DACON/KRX 주식 투자 알고리즘 경진대회/시가총액.csv')\n",
        "\n",
        "recode = []\n",
        "for ticker in market_cap['종목코드'] :\n",
        "  code = str(ticker).zfill(6)\n",
        "  recode.append(code)\n",
        "\n",
        "market_cap['종목코드'] = recode"
      ],
      "metadata": {
        "id": "JTi4bO9aiyVB"
      },
      "execution_count": null,
      "outputs": []
    },
    {
      "cell_type": "code",
      "source": [
        "# 각 종목 당 시총 저장\n",
        "rank_dict = dict()\n",
        "\n",
        "for ticker in ticker_list :\n",
        "  if ( 표준편차[ticker] == 0 ) : continue\n",
        "  rank = market_cap.loc[market_cap['종목코드'] == ticker, '시총'].iloc[0]\n",
        "  rank_dict[ticker] = rank\n",
        "\n",
        "scaled_rank = minmax_scale_dict_values(rank_dict)"
      ],
      "metadata": {
        "id": "QG5JWDFmaQ4o"
      },
      "execution_count": null,
      "outputs": []
    },
    {
      "cell_type": "code",
      "source": [
        "# scaled 시총 + 변동성\n",
        "std_rank = dict()\n",
        "\n",
        "for ticker in ticker_list :\n",
        "  if ( 표준편차[ticker] == 0 ) : continue\n",
        "  s = scaled_std[ticker]\n",
        "  r = scaled_rank[ticker]\n",
        "  std_rank[ticker] = (s+r)"
      ],
      "metadata": {
        "id": "BRvXCFyZeTod"
      },
      "execution_count": null,
      "outputs": []
    },
    {
      "cell_type": "code",
      "execution_count": null,
      "metadata": {
        "id": "t7G3_fp5f57Z"
      },
      "outputs": [],
      "source": [
        "정렬 = dict(sorted(std_rank.items(), key = lambda x : x[1], reverse=True))\n",
        "정렬 = pd.DataFrame.from_dict(정렬, orient='index').reset_index()\n",
        "정렬.columns = ['종목코드', 'std_rank']\n",
        "정렬.head()"
      ]
    },
    {
      "cell_type": "markdown",
      "source": [
        "- 종목의 long과 short을 선별하는 기준점을 잡기 위해 한달동안의 상승 종목과 하락 종목의 평균을 구함"
      ],
      "metadata": {
        "id": "ftkyD4XlS6GS"
      }
    },
    {
      "cell_type": "code",
      "source": [
        "pos_fr = []\n",
        "neg_fr = []\n",
        "for ticker in tqdm(ticker_list) :\n",
        "  df = merged_data[ticker]\n",
        "  one_month = df.iloc[-15:]\n",
        "  means = round(one_month['등락률'].mean(), 5)\n",
        "\n",
        "  if means > 0:\n",
        "    pos_fr.append(means)\n",
        "  else:\n",
        "    neg_fr.append(means)\n",
        "\n",
        "print()\n",
        "pos_fr = np.array(pos_fr)\n",
        "neg_fr = np.array(neg_fr)\n",
        "print('1달동안 주가가 상승한 경우의 평균 상승률:', np.median(pos_fr))\n",
        "print('1달동안 주가가 하락한 경우의 평균 하락률:', np.median(neg_fr))\n",
        "\n",
        "#1달동안 주가가 상승한 경우의 평균 상승률: 0.44833500000000004\n",
        "#1달동안 주가가 하락한 경우의 평균 하락률: -0.44333"
      ],
      "metadata": {
        "id": "nZJMEtnc4YVk"
      },
      "execution_count": null,
      "outputs": []
    },
    {
      "cell_type": "markdown",
      "source": [
        "# Model Train & Predict"
      ],
      "metadata": {
        "id": "9ONe4tpy0pEh"
      }
    },
    {
      "cell_type": "code",
      "execution_count": null,
      "metadata": {
        "id": "TqgknNqtjCyT"
      },
      "outputs": [],
      "source": [
        "# 기간의 시작일의 시가와 기간의 마지막일의 종가를 비교\n",
        "# 양수는 long , 음수는 short\n",
        "import logging\n",
        "logging.getLogger('cmdstanpy').setLevel(logging.WARNING)\n",
        "logging.getLogger('prophet').setLevel(logging.WARNING)\n",
        "\n",
        "import matplotlib.pyplot as plt\n",
        "import numpy as np\n",
        "import time\n",
        "\n",
        "forecast = dict()\n",
        "\n",
        "long = []\n",
        "short = []\n",
        "#prophet모델의 예측 등락률이 낮아서 반영비율(weight) 적용\n",
        "w = 4\n",
        "\n",
        "def calculate_final_value(start_value, 등락률):\n",
        "    final_value = start_value\n",
        "    for rate in 등락률:\n",
        "        final_value *= (1 + (rate/100)*w)\n",
        "    return final_value\n",
        "\n",
        "for i in tqdm(range(2000)) :\n",
        "  #if (정렬.loc[i, '표준편차'] == 0 ) : continue # 거래정지, 상장폐지 등의 이유로 예상되어 패스함\n",
        "  ticker = 정렬.loc[i, '종목코드'] # 종목코드 선택\n",
        "\n",
        "  if len(long) >= 200 and len(short) >= 300: # 조기 종료조건\n",
        "      break\n",
        "\n",
        "  df = merged_data[ticker].rename(columns={'일자': 'ds', '등락률': 'y'}) # 순차적으로 데이터프레임 선택\n",
        "  df['ds'] = pd.to_datetime(df['ds'], format='%Y-%m-%d')\n",
        "  df = df.fillna(0)\n",
        "\n",
        "  model = Prophet(holidays=holiday_df, changepoint_prior_scale=0.15, daily_seasonality = True, seasonality_mode = 'additive', seasonality_prior_scale = 10)\n",
        "  model.fit(df)\n",
        "\n",
        "  future = model.make_future_dataframe(periods=22, freq = 'D')\n",
        "  forecast[ticker] = model.predict(future)\n",
        "\n",
        "  yhat = calculate_final_value(df['종가'].iloc[-1],forecast[ticker]['yhat'].iloc[-22:])\n",
        "\n",
        "  if yhat >= (1.045*df['종가'].iloc[-1]) :\n",
        "      long.append(ticker)\n",
        "  elif yhat <= (0.956*df['종가'].iloc[-1]):\n",
        "      short.append(ticker)"
      ]
    },
    {
      "cell_type": "code",
      "source": [
        "#short에 있는 선별된 종목들 중에서 공매도 비중이 높은 순으로 최종 200주 결정\n",
        "숏공매도 = dict()\n",
        "for ticker in tqdm(short) :\n",
        "   df = stock.get_shorting_volume_by_date(\"20230728\", \"20230728\", ticker)\n",
        "   숏공매도[ticker] = df['비중']\n",
        "\n",
        "숏공매도비중 = pd.DataFrame.from_dict(숏공매도, orient='index').reset_index()\n",
        "숏공매도비중.columns = ['종목코드', '비중']\n",
        "숏공매도비중 = 숏공매도비중.sort_values(by='비중', ascending=False)\n",
        "숏공매도비중[:200]"
      ],
      "metadata": {
        "id": "DeF3P396FbJg"
      },
      "execution_count": null,
      "outputs": []
    },
    {
      "cell_type": "code",
      "execution_count": null,
      "metadata": {
        "id": "CPVAM8G5owv9"
      },
      "outputs": [],
      "source": [
        "정답롱 = long[:200]\n",
        "정답숏 = 숏공매도비중['종목코드'][:200]\n",
        "\n",
        "ticker_list = init['종목코드'].str[1:].unique()\n",
        "\n",
        "정답롱 = ['A' + item for item in 정답롱]\n",
        "정답숏 = ['A' + item for item in 정답숏]\n",
        "ticker_list = ['A' + item for item in ticker_list]\n",
        "나머지 = [x for x in ticker_list if x not in (정답롱 + 정답숏)]"
      ]
    },
    {
      "cell_type": "markdown",
      "source": [
        "# Submission"
      ],
      "metadata": {
        "id": "iUpjPTWA02bd"
      }
    },
    {
      "cell_type": "code",
      "execution_count": null,
      "metadata": {
        "id": "8KcLvLFQnLiX"
      },
      "outputs": [],
      "source": [
        "submission = pd.read_csv('/content/drive/MyDrive/DACON/KRX 주식 투자 알고리즘 경진대회/open/sample_submission.csv')\n",
        "\n",
        "submission.loc[:199, '종목코드'] = 정답롱\n",
        "submission.loc[200:1799, '종목코드'] = 나머지\n",
        "submission.loc[1800:, '종목코드'] = 정답숏"
      ]
    },
    {
      "cell_type": "code",
      "execution_count": null,
      "metadata": {
        "id": "-FIIAquMrd_1"
      },
      "outputs": [],
      "source": [
        "submission.to_csv('/content/drive/MyDrive/DACON/KRX 주식 투자 알고리즘 경진대회/open/sub_final.csv')"
      ]
    }
  ],
  "metadata": {
    "colab": {
      "provenance": [],
      "include_colab_link": true
    },
    "kernelspec": {
      "display_name": "Python 3",
      "name": "python3"
    },
    "language_info": {
      "name": "python"
    }
  },
  "nbformat": 4,
  "nbformat_minor": 0
}